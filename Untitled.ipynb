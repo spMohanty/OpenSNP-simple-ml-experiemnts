{
 "cells": [
  {
   "cell_type": "markdown",
   "metadata": {},
   "source": [
    "## Predicting height of DNA strands"
   ]
  },
  {
   "cell_type": "code",
   "execution_count": 1,
   "metadata": {},
   "outputs": [],
   "source": [
    "from sklearn import linear_model\n",
    "import numpy as np"
   ]
  },
  {
   "cell_type": "code",
   "execution_count": 34,
   "metadata": {},
   "outputs": [],
   "source": [
    "X = np.load(\"./data/subset_cm_train.npy\")\n",
    "X_test = np.load(\"./data/subset_cm_test.npy\")\n",
    "\n",
    "y = np.load(\"./data/train_heights.npy\")\n",
    "y_test = np.load(\"./data/test_heights.npy\")"
   ]
  },
  {
   "cell_type": "code",
   "execution_count": 35,
   "metadata": {},
   "outputs": [
    {
     "data": {
      "text/plain": [
       "(9894, 137)"
      ]
     },
     "execution_count": 35,
     "metadata": {},
     "output_type": "execute_result"
    }
   ],
   "source": [
    "X.shape\n",
    "X_test.shape\n"
   ]
  },
  {
   "cell_type": "code",
   "execution_count": 36,
   "metadata": {},
   "outputs": [],
   "source": [
    "X = X.T\n",
    "X_test = X_test.T\n",
    "y = y.T\n",
    "y_test = y_test.T"
   ]
  },
  {
   "cell_type": "code",
   "execution_count": 37,
   "metadata": {},
   "outputs": [],
   "source": [
    "from sklearn.model_selection import train_test_split"
   ]
  },
  {
   "cell_type": "code",
   "execution_count": 38,
   "metadata": {},
   "outputs": [],
   "source": [
    "# X_train, X_val, y_train, y_val = train_test_split(X, y, test_size=0.33)\n",
    "\n",
    "X_train = X\n",
    "y_train = y\n",
    "X_val = X_test\n",
    "y_val = y_test"
   ]
  },
  {
   "cell_type": "code",
   "execution_count": 39,
   "metadata": {},
   "outputs": [],
   "source": [
    "#Replace nan values in the training and testing set with an arbitrary number\n",
    "inds = np.where(np.isnan(X_train))\n",
    "X_train[inds] = -100\n",
    "inds = np.where(np.isnan(X_val))\n",
    "X_val[inds] = -100"
   ]
  },
  {
   "cell_type": "code",
   "execution_count": 40,
   "metadata": {},
   "outputs": [],
   "source": [
    "from sklearn.metrics import r2_score, mean_squared_error\n",
    "\n",
    "def model_train_on_val(model):\n",
    "    \n",
    "    model.fit(X_train, y_train)\n",
    "    \n",
    "    \n",
    "    y_pred = model.predict(X_val)\n",
    "    y = y_val\n",
    "    \n",
    "    print(\"R2 score on validation set is: \" + str(r2_score(y, y_pred))) \n",
    "    print(\"Mean squared error on validation set is: \" + str(mean_squared_error(y, y_pred)))"
   ]
  },
  {
   "cell_type": "code",
   "execution_count": 41,
   "metadata": {},
   "outputs": [],
   "source": [
    "def model_predict_test(model):\n",
    "    model.fit(X, y)\n",
    "    return model.predict(X_test)"
   ]
  },
  {
   "cell_type": "code",
   "execution_count": 42,
   "metadata": {},
   "outputs": [],
   "source": [
    "def run_model(model, model_name):\n",
    "    model_train_on_val(model)\n",
    "    predicted[model_name] = model_predict_test(model)"
   ]
  },
  {
   "cell_type": "code",
   "execution_count": 43,
   "metadata": {},
   "outputs": [],
   "source": [
    "predicted = {}"
   ]
  },
  {
   "cell_type": "code",
   "execution_count": 44,
   "metadata": {},
   "outputs": [],
   "source": [
    "from sklearn import linear_model\n",
    "from sklearn import kernel_ridge\n",
    "from sklearn import svm\n",
    "from sklearn import neighbors\n",
    "from sklearn import gaussian_process\n",
    "from sklearn import tree\n",
    "from sklearn import ensemble\n",
    "from sklearn import neural_network"
   ]
  },
  {
   "cell_type": "markdown",
   "metadata": {},
   "source": [
    "### Linear Regression"
   ]
  },
  {
   "cell_type": "code",
   "execution_count": 45,
   "metadata": {},
   "outputs": [
    {
     "name": "stdout",
     "output_type": "stream",
     "text": [
      "R2 score on validation set is: 0.30395747812106566\n",
      "Mean squared error on validation set is: 70.75619042007598\n"
     ]
    }
   ],
   "source": [
    "regr = linear_model.LinearRegression()\n",
    "\n",
    "run_model(regr, \"Linear Regression\")"
   ]
  },
  {
   "cell_type": "markdown",
   "metadata": {},
   "source": [
    "### Ridge Regression"
   ]
  },
  {
   "cell_type": "code",
   "execution_count": 46,
   "metadata": {},
   "outputs": [
    {
     "name": "stdout",
     "output_type": "stream",
     "text": [
      "R2 score on validation set is: 0.319049861181144\n",
      "Mean squared error on validation set is: 69.22197448337009\n"
     ]
    }
   ],
   "source": [
    "regr = linear_model.Ridge(alpha=.5)\n",
    "\n",
    "run_model(regr, \"Ridge Regression\")"
   ]
  },
  {
   "cell_type": "markdown",
   "metadata": {},
   "source": [
    "### Lasso Regression"
   ]
  },
  {
   "cell_type": "code",
   "execution_count": 47,
   "metadata": {},
   "outputs": [
    {
     "name": "stdout",
     "output_type": "stream",
     "text": [
      "R2 score on validation set is: 0.29045022435650014\n",
      "Mean squared error on validation set is: 72.12927006589699\n"
     ]
    }
   ],
   "source": [
    "regr = linear_model.Lasso(alpha=0.1)\n",
    "\n",
    "run_model(regr, \"Lasso Regression\")"
   ]
  },
  {
   "cell_type": "markdown",
   "metadata": {},
   "source": [
    "### Lasso LARS Regression"
   ]
  },
  {
   "cell_type": "code",
   "execution_count": 48,
   "metadata": {},
   "outputs": [
    {
     "name": "stderr",
     "output_type": "stream",
     "text": [
      "/home/mohanty/anaconda3/lib/python3.6/site-packages/sklearn/linear_model/least_angle.py:313: ConvergenceWarning: Regressors in active set degenerate. Dropping a regressor, after 2 iterations, i.e. alpha=1.392e-01, with an active set of 2 regressors, and the smallest cholesky pivot element being 7.598e-08. Reduce max_iter or increase eps parameters.\n",
      "  ConvergenceWarning)\n"
     ]
    },
    {
     "name": "stdout",
     "output_type": "stream",
     "text": [
      "R2 score on validation set is: 0.33020257381653617\n",
      "Mean squared error on validation set is: 68.08824567496339\n"
     ]
    }
   ],
   "source": [
    "regr = linear_model.LassoLars(alpha=0.1)\n",
    "\n",
    "run_model(regr, \"Lasso LARS Regression\")"
   ]
  },
  {
   "cell_type": "markdown",
   "metadata": {},
   "source": [
    "### Bayesian Ridge Regression"
   ]
  },
  {
   "cell_type": "code",
   "execution_count": 49,
   "metadata": {},
   "outputs": [
    {
     "name": "stdout",
     "output_type": "stream",
     "text": [
      "R2 score on validation set is: 0.4439092087255052\n",
      "Mean squared error on validation set is: 56.52939968675169\n"
     ]
    }
   ],
   "source": [
    "regr = linear_model.BayesianRidge()\n",
    "\n",
    "run_model(regr, \"Bayesian Ridge Regression\")"
   ]
  },
  {
   "cell_type": "markdown",
   "metadata": {},
   "source": [
    "### Kernel Ridge Regression"
   ]
  },
  {
   "cell_type": "code",
   "execution_count": 50,
   "metadata": {},
   "outputs": [
    {
     "name": "stdout",
     "output_type": "stream",
     "text": [
      "R2 score on validation set is: 0.29746495870490186\n",
      "Mean squared error on validation set is: 71.41618736807284\n"
     ]
    }
   ],
   "source": [
    "regr = kernel_ridge.KernelRidge(alpha=1.0)\n",
    "\n",
    "run_model(regr, \"Kernel Ridge Regression\")"
   ]
  },
  {
   "cell_type": "markdown",
   "metadata": {},
   "source": [
    "### SVM Regression"
   ]
  },
  {
   "cell_type": "code",
   "execution_count": 51,
   "metadata": {},
   "outputs": [
    {
     "name": "stdout",
     "output_type": "stream",
     "text": [
      "R2 score on validation set is: 0.20160221190662475\n",
      "Mean squared error on validation set is: 81.1611132216548\n"
     ]
    }
   ],
   "source": [
    "regr = svm.SVR()\n",
    "\n",
    "run_model(regr, \"SVM Regression\")"
   ]
  },
  {
   "cell_type": "markdown",
   "metadata": {},
   "source": [
    "### K Neighbors Regression"
   ]
  },
  {
   "cell_type": "code",
   "execution_count": 52,
   "metadata": {},
   "outputs": [
    {
     "name": "stdout",
     "output_type": "stream",
     "text": [
      "R2 score on validation set is: 0.318736025919089\n",
      "Mean squared error on validation set is: 69.25387740145985\n"
     ]
    }
   ],
   "source": [
    "regr = neighbors.KNeighborsRegressor(n_neighbors=5)\n",
    "\n",
    "run_model(regr, \"K Neighbors Regression\")"
   ]
  },
  {
   "cell_type": "markdown",
   "metadata": {},
   "source": [
    "### Gaussian Process Regression"
   ]
  },
  {
   "cell_type": "code",
   "execution_count": 53,
   "metadata": {},
   "outputs": [
    {
     "name": "stdout",
     "output_type": "stream",
     "text": [
      "R2 score on validation set is: -296.5132983496587\n",
      "Mean squared error on validation set is: 30243.7091540146\n"
     ]
    }
   ],
   "source": [
    "regr = gaussian_process.GaussianProcessRegressor()\n",
    "\n",
    "run_model(regr, \"Gaussian Process Regression\")"
   ]
  },
  {
   "cell_type": "markdown",
   "metadata": {},
   "source": [
    "### Decision Tree Regression"
   ]
  },
  {
   "cell_type": "code",
   "execution_count": 54,
   "metadata": {},
   "outputs": [
    {
     "name": "stdout",
     "output_type": "stream",
     "text": [
      "R2 score on validation set is: -0.45153639879369667\n",
      "Mean squared error on validation set is: 147.55590729927002\n"
     ]
    }
   ],
   "source": [
    "regr = tree.DecisionTreeRegressor()\n",
    "\n",
    "run_model(regr, \"Decision Tree Regression\")"
   ]
  },
  {
   "cell_type": "markdown",
   "metadata": {},
   "source": [
    "### Boosting Regression"
   ]
  },
  {
   "cell_type": "code",
   "execution_count": 55,
   "metadata": {},
   "outputs": [
    {
     "name": "stdout",
     "output_type": "stream",
     "text": [
      "R2 score on validation set is: 0.35850943687983117\n",
      "Mean squared error on validation set is: 65.21071200403934\n"
     ]
    }
   ],
   "source": [
    "regr = ensemble.GradientBoostingRegressor(n_estimators=300, learning_rate=0.1)\n",
    "\n",
    "run_model(regr, \"Boosting Regression\")"
   ]
  },
  {
   "cell_type": "markdown",
   "metadata": {},
   "source": [
    "### MLP Regression"
   ]
  },
  {
   "cell_type": "code",
   "execution_count": 56,
   "metadata": {},
   "outputs": [
    {
     "name": "stdout",
     "output_type": "stream",
     "text": [
      "R2 score on validation set is: 0.33807492852916676\n",
      "Mean squared error on validation set is: 67.28798159397358\n"
     ]
    }
   ],
   "source": [
    "regr = neural_network.MLPRegressor()\n",
    "\n",
    "run_model(regr, \"MLP Regression\")"
   ]
  },
  {
   "cell_type": "code",
   "execution_count": null,
   "metadata": {},
   "outputs": [],
   "source": []
  }
 ],
 "metadata": {
  "kernelspec": {
   "display_name": "Python 3",
   "language": "python",
   "name": "python3"
  },
  "language_info": {
   "codemirror_mode": {
    "name": "ipython",
    "version": 3
   },
   "file_extension": ".py",
   "mimetype": "text/x-python",
   "name": "python",
   "nbconvert_exporter": "python",
   "pygments_lexer": "ipython3",
   "version": "3.6.4"
  }
 },
 "nbformat": 4,
 "nbformat_minor": 2
}
