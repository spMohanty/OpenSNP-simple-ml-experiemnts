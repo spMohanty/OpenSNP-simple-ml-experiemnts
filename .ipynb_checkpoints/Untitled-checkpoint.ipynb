{
 "cells": [
  {
   "cell_type": "markdown",
   "metadata": {},
   "source": [
    "## Predicting height of DNA strands"
   ]
  },
  {
   "cell_type": "code",
   "execution_count": 1,
   "metadata": {},
   "outputs": [],
   "source": [
    "from sklearn import linear_model\n",
    "import numpy as np"
   ]
  },
  {
   "cell_type": "code",
   "execution_count": 2,
   "metadata": {},
   "outputs": [],
   "source": [
    "X = np.load(\"./data/subset_cm_train.npy\")\n",
    "X_test = np.load(\"./data/subset_cm_test.npy\")\n",
    "\n",
    "y = np.load(\"./data/train_heights.npy\")"
   ]
  },
  {
   "cell_type": "code",
   "execution_count": 3,
   "metadata": {},
   "outputs": [],
   "source": [
    "X = X.reshape(784, 9894)\n",
    "X_test = X_test.reshape(137, 9894)"
   ]
  },
  {
   "cell_type": "code",
   "execution_count": 4,
   "metadata": {},
   "outputs": [],
   "source": [
    "from sklearn.model_selection import train_test_split"
   ]
  },
  {
   "cell_type": "code",
   "execution_count": 5,
   "metadata": {},
   "outputs": [],
   "source": [
    "X_train, X_val, y_train, y_val = train_test_split(X, y, test_size=0.33)"
   ]
  },
  {
   "cell_type": "code",
   "execution_count": 6,
   "metadata": {},
   "outputs": [],
   "source": [
    "#Replace nan values in the training and testing set with an arbitrary number\n",
    "inds = np.where(np.isnan(X_train))\n",
    "X_train[inds] = -100\n",
    "inds = np.where(np.isnan(X_val))\n",
    "X_val[inds] = -100"
   ]
  },
  {
   "cell_type": "code",
   "execution_count": 7,
   "metadata": {},
   "outputs": [],
   "source": [
    "from sklearn.metrics import r2_score, mean_squared_error\n",
    "\n",
    "def model_train_on_val(model):\n",
    "    \n",
    "    model.fit(X_train, y_train)\n",
    "    \n",
    "    \n",
    "    y_pred = model.predict(X_val)\n",
    "    y = y_val\n",
    "    \n",
    "    print(\"R2 score on validation set is: \" + str(r2_score(y, y_pred))) \n",
    "    print(\"Mean squared error on validation set is: \" + str(mean_squared_error(y, y_pred)))"
   ]
  },
  {
   "cell_type": "code",
   "execution_count": 8,
   "metadata": {},
   "outputs": [],
   "source": [
    "def model_predict_test(model):\n",
    "    model.fit(X, y)\n",
    "    return model.predict(X_test)"
   ]
  },
  {
   "cell_type": "code",
   "execution_count": 9,
   "metadata": {},
   "outputs": [],
   "source": [
    "def run_model(model, model_name):\n",
    "    model_train_on_val(model)\n",
    "    predicted[model_name] = model_predict_test(model)"
   ]
  },
  {
   "cell_type": "code",
   "execution_count": 10,
   "metadata": {},
   "outputs": [],
   "source": [
    "predicted = {}"
   ]
  },
  {
   "cell_type": "code",
   "execution_count": 31,
   "metadata": {},
   "outputs": [],
   "source": [
    "from sklearn import linear_model\n",
    "from sklearn import kernel_ridge\n",
    "from sklearn import svm\n",
    "from sklearn import neighbors\n",
    "from sklearn import gaussian_process\n",
    "from sklearn import tree\n",
    "from sklearn import ensemble\n",
    "from sklearn import neural_network"
   ]
  },
  {
   "cell_type": "markdown",
   "metadata": {},
   "source": [
    "### Linear Regression"
   ]
  },
  {
   "cell_type": "code",
   "execution_count": 11,
   "metadata": {},
   "outputs": [
    {
     "name": "stdout",
     "output_type": "stream",
     "text": [
      "R2 score on validation set is: -0.13449834484920542\n",
      "Mean squared error on validation set is: 125.74800812353483\n"
     ]
    }
   ],
   "source": [
    "regr = linear_model.LinearRegression()\n",
    "\n",
    "run_model(regr, \"Linear Regression\")"
   ]
  },
  {
   "cell_type": "markdown",
   "metadata": {},
   "source": [
    "### Ridge Regression"
   ]
  },
  {
   "cell_type": "code",
   "execution_count": 12,
   "metadata": {},
   "outputs": [
    {
     "name": "stdout",
     "output_type": "stream",
     "text": [
      "R2 score on validation set is: -0.1360245750661715\n",
      "Mean squared error on validation set is: 125.91717576542058\n"
     ]
    }
   ],
   "source": [
    "regr = linear_model.Ridge(alpha=.5)\n",
    "\n",
    "run_model(regr, \"Ridge Regression\")"
   ]
  },
  {
   "cell_type": "markdown",
   "metadata": {},
   "source": [
    "### Lasso Regression"
   ]
  },
  {
   "cell_type": "code",
   "execution_count": 13,
   "metadata": {},
   "outputs": [
    {
     "name": "stdout",
     "output_type": "stream",
     "text": [
      "R2 score on validation set is: -0.363725704962224\n",
      "Mean squared error on validation set is: 151.1556114686588\n"
     ]
    }
   ],
   "source": [
    "regr = linear_model.Lasso(alpha=0.1)\n",
    "\n",
    "run_model(regr, \"Lasso Regression\")"
   ]
  },
  {
   "cell_type": "markdown",
   "metadata": {},
   "source": [
    "### Lasso LARS Regression"
   ]
  },
  {
   "cell_type": "code",
   "execution_count": 14,
   "metadata": {},
   "outputs": [
    {
     "name": "stdout",
     "output_type": "stream",
     "text": [
      "R2 score on validation set is: -0.0002895021694933053\n",
      "Mean squared error on validation set is: 110.87227497137953\n"
     ]
    }
   ],
   "source": [
    "regr = linear_model.LassoLars(alpha=0.1)\n",
    "\n",
    "run_model(regr, \"Lasso LARS Regression\")"
   ]
  },
  {
   "cell_type": "markdown",
   "metadata": {},
   "source": [
    "### Bayesian Ridge Regression"
   ]
  },
  {
   "cell_type": "code",
   "execution_count": 15,
   "metadata": {},
   "outputs": [
    {
     "name": "stdout",
     "output_type": "stream",
     "text": [
      "R2 score on validation set is: 0.00554158580949915\n",
      "Mean squared error on validation set is: 110.22595609230802\n"
     ]
    }
   ],
   "source": [
    "regr = linear_model.BayesianRidge()\n",
    "\n",
    "run_model(regr, \"Bayesian Ridge Regression\")"
   ]
  },
  {
   "cell_type": "markdown",
   "metadata": {},
   "source": [
    "### Kernel Ridge Regression"
   ]
  },
  {
   "cell_type": "code",
   "execution_count": 17,
   "metadata": {},
   "outputs": [
    {
     "name": "stdout",
     "output_type": "stream",
     "text": [
      "R2 score on validation set is: -120.80850732683373\n",
      "Mean squared error on validation set is: 13501.277669017894\n"
     ]
    }
   ],
   "source": [
    "regr = kernel_ridge.KernelRidge(alpha=1.0)\n",
    "\n",
    "run_model(regr, \"Kernel Ridge Regression\")"
   ]
  },
  {
   "cell_type": "markdown",
   "metadata": {},
   "source": [
    "### SVM Regression"
   ]
  },
  {
   "cell_type": "code",
   "execution_count": 19,
   "metadata": {},
   "outputs": [
    {
     "name": "stdout",
     "output_type": "stream",
     "text": [
      "R2 score on validation set is: 0.0033848071773419086\n",
      "Mean squared error on validation set is: 110.46501383812891\n"
     ]
    }
   ],
   "source": [
    "regr = svm.SVR()\n",
    "\n",
    "run_model(regr, \"SVM Regression\")"
   ]
  },
  {
   "cell_type": "markdown",
   "metadata": {},
   "source": [
    "### K Neighbors Regression"
   ]
  },
  {
   "cell_type": "code",
   "execution_count": 21,
   "metadata": {},
   "outputs": [
    {
     "name": "stdout",
     "output_type": "stream",
     "text": [
      "R2 score on validation set is: -0.13366699994078002\n",
      "Mean squared error on validation set is: 125.65586169884169\n"
     ]
    }
   ],
   "source": [
    "regr = neighbors.KNeighborsRegressor(n_neighbors=5)\n",
    "\n",
    "run_model(regr, \"K Neighbors Regression\")"
   ]
  },
  {
   "cell_type": "markdown",
   "metadata": {},
   "source": [
    "### Gaussian Process Regression"
   ]
  },
  {
   "cell_type": "code",
   "execution_count": 25,
   "metadata": {},
   "outputs": [
    {
     "name": "stdout",
     "output_type": "stream",
     "text": [
      "R2 score on validation set is: -271.0614972465226\n",
      "Mean squared error on validation set is: 30155.347093436292\n"
     ]
    }
   ],
   "source": [
    "regr = gaussian_process.GaussianProcessRegressor()\n",
    "\n",
    "run_model(regr, \"Gaussian Process Regression\")"
   ]
  },
  {
   "cell_type": "markdown",
   "metadata": {},
   "source": [
    "### Decision Tree Regression"
   ]
  },
  {
   "cell_type": "code",
   "execution_count": 27,
   "metadata": {},
   "outputs": [
    {
     "name": "stdout",
     "output_type": "stream",
     "text": [
      "R2 score on validation set is: -0.6670448194562582\n",
      "Mean squared error on validation set is: 184.77555868725867\n"
     ]
    }
   ],
   "source": [
    "regr = tree.DecisionTreeRegressor()\n",
    "\n",
    "run_model(regr, \"Decision Tree Regression\")"
   ]
  },
  {
   "cell_type": "markdown",
   "metadata": {},
   "source": [
    "### Boosting Regression"
   ]
  },
  {
   "cell_type": "code",
   "execution_count": 30,
   "metadata": {},
   "outputs": [
    {
     "name": "stdout",
     "output_type": "stream",
     "text": [
      "R2 score on validation set is: -0.08376876273072886\n",
      "Mean squared error on validation set is: 120.125131780612\n"
     ]
    }
   ],
   "source": [
    "regr = ensemble.GradientBoostingRegressor(n_estimators=300, learning_rate=0.1)\n",
    "\n",
    "run_model(regr, \"Boosting Regression\")"
   ]
  },
  {
   "cell_type": "markdown",
   "metadata": {},
   "source": [
    "### MLP Regression"
   ]
  },
  {
   "cell_type": "code",
   "execution_count": 32,
   "metadata": {},
   "outputs": [
    {
     "name": "stderr",
     "output_type": "stream",
     "text": [
      "C:\\Users\\mridu\\Anaconda3\\lib\\site-packages\\sklearn\\neural_network\\multilayer_perceptron.py:564: ConvergenceWarning: Stochastic Optimizer: Maximum iterations (200) reached and the optimization hasn't converged yet.\n",
      "  % self.max_iter, ConvergenceWarning)\n"
     ]
    },
    {
     "name": "stdout",
     "output_type": "stream",
     "text": [
      "R2 score on validation set is: -20.5692938004248\n",
      "Mean squared error on validation set is: 2390.7445474459796\n"
     ]
    }
   ],
   "source": [
    "regr = neural_network.MLPRegressor()\n",
    "\n",
    "run_model(regr, \"MLP Regression\")"
   ]
  }
 ],
 "metadata": {
  "kernelspec": {
   "display_name": "Python 3",
   "language": "python",
   "name": "python3"
  },
  "language_info": {
   "codemirror_mode": {
    "name": "ipython",
    "version": 3
   },
   "file_extension": ".py",
   "mimetype": "text/x-python",
   "name": "python",
   "nbconvert_exporter": "python",
   "pygments_lexer": "ipython3",
   "version": "3.7.0"
  }
 },
 "nbformat": 4,
 "nbformat_minor": 2
}
